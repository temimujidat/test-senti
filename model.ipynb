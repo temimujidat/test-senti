{
 "cells": [
  {
   "cell_type": "code",
   "execution_count": 1,
   "id": "add9aa01",
   "metadata": {},
   "outputs": [
    {
     "name": "stdout",
     "output_type": "stream",
     "text": [
      "Tensorflow version: 2.8.0\n"
     ]
    }
   ],
   "source": [
    "import numpy as np\n",
    "import seaborn as sns\n",
    "import matplotlib.pyplot as plt\n",
    "import utils\n",
    "import os\n",
    "%matplotlib inline\n",
    "import glob as gb\n",
    "import tensorflow.keras as keras\n",
    "\n",
    "#from tensorflow import keras \n",
    "from tensorflow.keras.preprocessing.image import ImageDataGenerator\n",
    "from tensorflow.keras.layers import Dense, Input, Dropout, Flatten, Conv2D\n",
    "from tensorflow.keras.layers import BatchNormalization, Activation, MaxPooling2D\n",
    "from tensorflow.keras.models import Model, Sequential\n",
    "from tensorflow.keras.optimizers import Adam\n",
    "from tensorflow.keras.callbacks import ModelCheckpoint, ReduceLROnPlateau, EarlyStopping\n",
    "from tensorflow.keras.utils import plot_model\n",
    "from tensorflow.keras.preprocessing import image\n",
    "\n",
    "from tensorflow.keras.preprocessing.image import img_to_array, load_img\n",
    "from tensorflow.keras import backend as K\n",
    "\n",
    "from IPython.display import SVG, Image\n",
    "from livelossplot.tf_keras import PlotLossesCallback\n",
    "\n",
    "from livelossplot import PlotLossesKeras\n",
    "import tensorflow as tf\n",
    "print(\"Tensorflow version:\", tf.__version__)\n"
   ]
  },
  {
   "cell_type": "code",
   "execution_count": 2,
   "id": "46532851",
   "metadata": {},
   "outputs": [],
   "source": [
    "#!pip install utils"
   ]
  },
  {
   "cell_type": "code",
   "execution_count": 3,
   "id": "5d395a3c",
   "metadata": {},
   "outputs": [],
   "source": [
    "#!pip install tensorflow 1.15"
   ]
  },
  {
   "cell_type": "code",
   "execution_count": 4,
   "id": "d8ac174a",
   "metadata": {},
   "outputs": [],
   "source": [
    "#!pip install livelossplot"
   ]
  },
  {
   "cell_type": "code",
   "execution_count": 5,
   "id": "e6cc3cb0",
   "metadata": {},
   "outputs": [],
   "source": [
    "#!pip install keras"
   ]
  },
  {
   "cell_type": "code",
   "execution_count": 6,
   "id": "6bb39bba",
   "metadata": {},
   "outputs": [
    {
     "name": "stdout",
     "output_type": "stream",
     "text": [
      "Found 28709 images belonging to 7 classes.\n",
      "Found 7178 images belonging to 7 classes.\n"
     ]
    }
   ],
   "source": [
    "img_size = 48\n",
    "batch_size = 64\n",
    "\n",
    "datagen_train = ImageDataGenerator(horizontal_flip = True)\n",
    "train_generator = datagen_train.flow_from_directory(\"train/\",\n",
    "                                                   target_size = (img_size, img_size),\n",
    "                                                   color_mode = 'grayscale',\n",
    "                                                   batch_size = batch_size,\n",
    "                                                   class_mode = 'categorical',\n",
    "                                                   shuffle = True)\n",
    "\n",
    "datagen_validation = ImageDataGenerator(horizontal_flip = True)\n",
    "validation_generator = datagen_train.flow_from_directory(\"test/\",\n",
    "                                                   target_size = (img_size, img_size),\n",
    "                                                   color_mode = 'grayscale',\n",
    "                                                   batch_size = batch_size,\n",
    "                                                   class_mode = 'categorical',\n",
    "                                                   shuffle = True)"
   ]
  },
  {
   "cell_type": "code",
   "execution_count": 7,
   "id": "6c4cf85b",
   "metadata": {},
   "outputs": [
    {
     "name": "stderr",
     "output_type": "stream",
     "text": [
      "2022-08-03 15:20:00.875411: I tensorflow/core/platform/cpu_feature_guard.cc:151] This TensorFlow binary is optimized with oneAPI Deep Neural Network Library (oneDNN) to use the following CPU instructions in performance-critical operations:  AVX2 FMA\n",
      "To enable them in other operations, rebuild TensorFlow with the appropriate compiler flags.\n"
     ]
    },
    {
     "name": "stdout",
     "output_type": "stream",
     "text": [
      "Model: \"sequential\"\n",
      "_________________________________________________________________\n",
      " Layer (type)                Output Shape              Param #   \n",
      "=================================================================\n",
      " conv2d (Conv2D)             (None, 48, 48, 64)        640       \n",
      "                                                                 \n",
      " batch_normalization (BatchN  (None, 48, 48, 64)       256       \n",
      " ormalization)                                                   \n",
      "                                                                 \n",
      " activation (Activation)     (None, 48, 48, 64)        0         \n",
      "                                                                 \n",
      " max_pooling2d (MaxPooling2D  (None, 24, 24, 64)       0         \n",
      " )                                                               \n",
      "                                                                 \n",
      " dropout (Dropout)           (None, 24, 24, 64)        0         \n",
      "                                                                 \n",
      " conv2d_1 (Conv2D)           (None, 24, 24, 128)       204928    \n",
      "                                                                 \n",
      " batch_normalization_1 (Batc  (None, 24, 24, 128)      512       \n",
      " hNormalization)                                                 \n",
      "                                                                 \n",
      " activation_1 (Activation)   (None, 24, 24, 128)       0         \n",
      "                                                                 \n",
      " max_pooling2d_1 (MaxPooling  (None, 12, 12, 128)      0         \n",
      " 2D)                                                             \n",
      "                                                                 \n",
      " dropout_1 (Dropout)         (None, 12, 12, 128)       0         \n",
      "                                                                 \n",
      " conv2d_2 (Conv2D)           (None, 12, 12, 512)       590336    \n",
      "                                                                 \n",
      " batch_normalization_2 (Batc  (None, 12, 12, 512)      2048      \n",
      " hNormalization)                                                 \n",
      "                                                                 \n",
      " activation_2 (Activation)   (None, 12, 12, 512)       0         \n",
      "                                                                 \n",
      " max_pooling2d_2 (MaxPooling  (None, 6, 6, 512)        0         \n",
      " 2D)                                                             \n",
      "                                                                 \n",
      " dropout_2 (Dropout)         (None, 6, 6, 512)         0         \n",
      "                                                                 \n",
      " conv2d_3 (Conv2D)           (None, 6, 6, 512)         2359808   \n",
      "                                                                 \n",
      " batch_normalization_3 (Batc  (None, 6, 6, 512)        2048      \n",
      " hNormalization)                                                 \n",
      "                                                                 \n",
      " activation_3 (Activation)   (None, 6, 6, 512)         0         \n",
      "                                                                 \n",
      " max_pooling2d_3 (MaxPooling  (None, 3, 3, 512)        0         \n",
      " 2D)                                                             \n",
      "                                                                 \n",
      " dropout_3 (Dropout)         (None, 3, 3, 512)         0         \n",
      "                                                                 \n",
      " flatten (Flatten)           (None, 4608)              0         \n",
      "                                                                 \n",
      " dense (Dense)               (None, 256)               1179904   \n",
      "                                                                 \n",
      " batch_normalization_4 (Batc  (None, 256)              1024      \n",
      " hNormalization)                                                 \n",
      "                                                                 \n",
      " activation_4 (Activation)   (None, 256)               0         \n",
      "                                                                 \n",
      " dropout_4 (Dropout)         (None, 256)               0         \n",
      "                                                                 \n",
      " dense_1 (Dense)             (None, 512)               131584    \n",
      "                                                                 \n",
      " batch_normalization_5 (Batc  (None, 512)              2048      \n",
      " hNormalization)                                                 \n",
      "                                                                 \n",
      " activation_5 (Activation)   (None, 512)               0         \n",
      "                                                                 \n",
      " dropout_5 (Dropout)         (None, 512)               0         \n",
      "                                                                 \n",
      " dense_2 (Dense)             (None, 7)                 3591      \n",
      "                                                                 \n",
      "=================================================================\n",
      "Total params: 4,478,727\n",
      "Trainable params: 4,474,759\n",
      "Non-trainable params: 3,968\n",
      "_________________________________________________________________\n"
     ]
    },
    {
     "name": "stderr",
     "output_type": "stream",
     "text": [
      "/Users/mac/opt/anaconda3/lib/python3.9/site-packages/keras/optimizer_v2/adam.py:105: UserWarning: The `lr` argument is deprecated, use `learning_rate` instead.\n",
      "  super(Adam, self).__init__(name, **kwargs)\n"
     ]
    }
   ],
   "source": [
    "model = Sequential()\n",
    "\n",
    "#1 - conv\n",
    "model.add(Conv2D(64, (3,3), padding='same', input_shape=(48,48,1)))\n",
    "model.add(BatchNormalization())\n",
    "model.add(Activation('relu'))\n",
    "model.add(MaxPooling2D(pool_size=(2,2)))\n",
    "model.add(Dropout(0.25))\n",
    "\n",
    "#2 - conv\n",
    "model.add(Conv2D(128, (5,5), padding='same'))\n",
    "model.add(BatchNormalization())\n",
    "model.add(Activation('relu'))\n",
    "model.add(MaxPooling2D(pool_size=(2,2)))\n",
    "model.add(Dropout(0.25))\n",
    "\n",
    "#3 - conv\n",
    "model.add(Conv2D(512, (3,3), padding='same'))\n",
    "model.add(BatchNormalization())\n",
    "model.add(Activation('relu'))\n",
    "model.add(MaxPooling2D(pool_size=(2,2)))\n",
    "model.add(Dropout(0.25))\n",
    "\n",
    "#4 - conv layer\n",
    "model.add(Conv2D(512, (3,3), padding='same'))\n",
    "model.add(BatchNormalization())\n",
    "model.add(Activation('relu'))\n",
    "model.add(MaxPooling2D(pool_size=(2,2)))\n",
    "model.add(Dropout(0.25))\n",
    "\n",
    "model.add(Flatten())\n",
    "\n",
    "#1 - fully connected layer\n",
    "model.add(Dense(256))\n",
    "model.add(BatchNormalization())\n",
    "model.add(Activation('relu'))\n",
    "model.add(Dropout(0.25))\n",
    "\n",
    "#2 - fully connected layer\n",
    "model.add(Dense(512))\n",
    "model.add(BatchNormalization())\n",
    "model.add(Activation('relu'))\n",
    "model.add(Dropout(0.25))\n",
    "\n",
    "#last dense layer\n",
    "model.add(Dense(7,activation = 'softmax'))\n",
    "\n",
    "opt = Adam(lr=0.0005)\n",
    "model.compile(optimizer=opt, loss ='categorical_crossentropy', metrics =['accuracy'])\n",
    "model.summary()\n",
    "\n",
    "#loss=\"sparse_categorical_crossentropy\""
   ]
  },
  {
   "cell_type": "code",
   "execution_count": 383,
   "id": "20c61afc",
   "metadata": {},
   "outputs": [
    {
     "name": "stdout",
     "output_type": "stream",
     "text": [
      "Epoch 1/40\n",
      "448/448 [==============================] - ETA: 0s - loss: 1.8183 - accuracy: 0.3016\n",
      "Epoch 1: saving model to model_weights.h5\n",
      "448/448 [==============================] - 944s 2s/step - loss: 1.8183 - accuracy: 0.3016 - val_loss: 1.6168 - val_accuracy: 0.3744 - lr: 5.0000e-04\n",
      "Epoch 2/40\n",
      "448/448 [==============================] - ETA: 0s - loss: 1.4698 - accuracy: 0.4355\n",
      "Epoch 2: saving model to model_weights.h5\n",
      "448/448 [==============================] - 943s 2s/step - loss: 1.4698 - accuracy: 0.4355 - val_loss: 1.4490 - val_accuracy: 0.4495 - lr: 5.0000e-04\n",
      "Epoch 3/40\n",
      "448/448 [==============================] - ETA: 0s - loss: 1.3260 - accuracy: 0.4904 \n",
      "Epoch 3: saving model to model_weights.h5\n",
      "448/448 [==============================] - 4749s 11s/step - loss: 1.3260 - accuracy: 0.4904 - val_loss: 1.3434 - val_accuracy: 0.4845 - lr: 5.0000e-04\n",
      "Epoch 4/40\n",
      "448/448 [==============================] - ETA: 0s - loss: 1.2425 - accuracy: 0.5248\n",
      "Epoch 4: saving model to model_weights.h5\n",
      "448/448 [==============================] - 1073s 2s/step - loss: 1.2425 - accuracy: 0.5248 - val_loss: 1.1731 - val_accuracy: 0.5543 - lr: 5.0000e-04\n",
      "Epoch 5/40\n",
      "448/448 [==============================] - ETA: 0s - loss: 1.1827 - accuracy: 0.5489\n",
      "Epoch 5: saving model to model_weights.h5\n",
      "448/448 [==============================] - 1077s 2s/step - loss: 1.1827 - accuracy: 0.5489 - val_loss: 1.2141 - val_accuracy: 0.5279 - lr: 5.0000e-04\n",
      "Epoch 6/40\n",
      "448/448 [==============================] - ETA: 0s - loss: 1.1453 - accuracy: 0.5630\n",
      "Epoch 6: saving model to model_weights.h5\n",
      "448/448 [==============================] - 1155s 3s/step - loss: 1.1453 - accuracy: 0.5630 - val_loss: 1.1406 - val_accuracy: 0.5631 - lr: 5.0000e-04\n",
      "Epoch 7/40\n",
      "448/448 [==============================] - ETA: 0s - loss: 1.1112 - accuracy: 0.5803\n",
      "Epoch 7: saving model to model_weights.h5\n",
      "448/448 [==============================] - 943s 2s/step - loss: 1.1112 - accuracy: 0.5803 - val_loss: 1.0942 - val_accuracy: 0.5829 - lr: 5.0000e-04\n",
      "Epoch 8/40\n",
      "448/448 [==============================] - ETA: 0s - loss: 1.0808 - accuracy: 0.5910\n",
      "Epoch 8: saving model to model_weights.h5\n",
      "448/448 [==============================] - 932s 2s/step - loss: 1.0808 - accuracy: 0.5910 - val_loss: 1.0909 - val_accuracy: 0.5788 - lr: 5.0000e-04\n",
      "Epoch 9/40\n",
      "448/448 [==============================] - ETA: 0s - loss: 1.0564 - accuracy: 0.5963\n",
      "Epoch 9: saving model to model_weights.h5\n",
      "448/448 [==============================] - 923s 2s/step - loss: 1.0564 - accuracy: 0.5963 - val_loss: 1.0765 - val_accuracy: 0.5974 - lr: 5.0000e-04\n",
      "Epoch 10/40\n",
      "448/448 [==============================] - ETA: 0s - loss: 1.0294 - accuracy: 0.6099\n",
      "Epoch 10: saving model to model_weights.h5\n",
      "448/448 [==============================] - 921s 2s/step - loss: 1.0294 - accuracy: 0.6099 - val_loss: 1.0511 - val_accuracy: 0.6010 - lr: 5.0000e-04\n",
      "Epoch 11/40\n",
      "448/448 [==============================] - ETA: 0s - loss: 1.0114 - accuracy: 0.6191\n",
      "Epoch 11: saving model to model_weights.h5\n",
      "448/448 [==============================] - 936s 2s/step - loss: 1.0114 - accuracy: 0.6191 - val_loss: 1.0961 - val_accuracy: 0.5865 - lr: 5.0000e-04\n",
      "Epoch 12/40\n",
      "448/448 [==============================] - ETA: 0s - loss: 0.9867 - accuracy: 0.6273\n",
      "Epoch 12: saving model to model_weights.h5\n",
      "448/448 [==============================] - 919s 2s/step - loss: 0.9867 - accuracy: 0.6273 - val_loss: 1.0937 - val_accuracy: 0.5999 - lr: 5.0000e-04\n",
      "Epoch 13/40\n",
      "448/448 [==============================] - ETA: 0s - loss: 0.9177 - accuracy: 0.6541\n",
      "Epoch 13: saving model to model_weights.h5\n",
      "448/448 [==============================] - 913s 2s/step - loss: 0.9177 - accuracy: 0.6541 - val_loss: 0.9698 - val_accuracy: 0.6384 - lr: 5.0000e-05\n",
      "Epoch 14/40\n",
      "448/448 [==============================] - ETA: 0s - loss: 0.8941 - accuracy: 0.6630\n",
      "Epoch 14: saving model to model_weights.h5\n",
      "448/448 [==============================] - 914s 2s/step - loss: 0.8941 - accuracy: 0.6630 - val_loss: 0.9786 - val_accuracy: 0.6371 - lr: 5.0000e-05\n",
      "Epoch 15/40\n",
      "448/448 [==============================] - ETA: 0s - loss: 0.8758 - accuracy: 0.6730\n",
      "Epoch 15: saving model to model_weights.h5\n",
      "448/448 [==============================] - 912s 2s/step - loss: 0.8758 - accuracy: 0.6730 - val_loss: 0.9575 - val_accuracy: 0.6470 - lr: 5.0000e-05\n",
      "Epoch 16/40\n",
      "448/448 [==============================] - ETA: 0s - loss: 0.8653 - accuracy: 0.6745\n",
      "Epoch 16: saving model to model_weights.h5\n",
      "448/448 [==============================] - 909s 2s/step - loss: 0.8653 - accuracy: 0.6745 - val_loss: 0.9503 - val_accuracy: 0.6522 - lr: 5.0000e-05\n",
      "Epoch 17/40\n",
      "448/448 [==============================] - ETA: 0s - loss: 0.8621 - accuracy: 0.6746\n",
      "Epoch 17: saving model to model_weights.h5\n",
      "448/448 [==============================] - 910s 2s/step - loss: 0.8621 - accuracy: 0.6746 - val_loss: 0.9562 - val_accuracy: 0.6486 - lr: 5.0000e-05\n",
      "Epoch 18/40\n",
      "448/448 [==============================] - ETA: 0s - loss: 0.8526 - accuracy: 0.6802\n",
      "Epoch 18: saving model to model_weights.h5\n",
      "448/448 [==============================] - 906s 2s/step - loss: 0.8526 - accuracy: 0.6802 - val_loss: 0.9549 - val_accuracy: 0.6486 - lr: 5.0000e-05\n",
      "Epoch 19/40\n",
      "448/448 [==============================] - ETA: 0s - loss: 0.8378 - accuracy: 0.6872\n",
      "Epoch 19: saving model to model_weights.h5\n",
      "448/448 [==============================] - 908s 2s/step - loss: 0.8378 - accuracy: 0.6872 - val_loss: 0.9497 - val_accuracy: 0.6484 - lr: 1.0000e-05\n",
      "Epoch 20/40\n",
      "448/448 [==============================] - ETA: 0s - loss: 0.8410 - accuracy: 0.6829\n",
      "Epoch 20: saving model to model_weights.h5\n",
      "448/448 [==============================] - 907s 2s/step - loss: 0.8410 - accuracy: 0.6829 - val_loss: 0.9488 - val_accuracy: 0.6550 - lr: 1.0000e-05\n",
      "Epoch 21/40\n",
      "448/448 [==============================] - ETA: 0s - loss: 0.8296 - accuracy: 0.6905\n",
      "Epoch 21: saving model to model_weights.h5\n",
      "448/448 [==============================] - 908s 2s/step - loss: 0.8296 - accuracy: 0.6905 - val_loss: 0.9500 - val_accuracy: 0.6519 - lr: 1.0000e-05\n",
      "Epoch 22/40\n",
      "448/448 [==============================] - ETA: 0s - loss: 0.8278 - accuracy: 0.6913\n",
      "Epoch 22: saving model to model_weights.h5\n",
      "448/448 [==============================] - 906s 2s/step - loss: 0.8278 - accuracy: 0.6913 - val_loss: 0.9507 - val_accuracy: 0.6528 - lr: 1.0000e-05\n",
      "Epoch 23/40\n",
      "448/448 [==============================] - ETA: 0s - loss: 0.8338 - accuracy: 0.6866\n",
      "Epoch 23: saving model to model_weights.h5\n",
      "448/448 [==============================] - 903s 2s/step - loss: 0.8338 - accuracy: 0.6866 - val_loss: 0.9512 - val_accuracy: 0.6514 - lr: 1.0000e-05\n",
      "Epoch 24/40\n",
      "448/448 [==============================] - ETA: 0s - loss: 0.8307 - accuracy: 0.6886\n",
      "Epoch 24: saving model to model_weights.h5\n",
      "448/448 [==============================] - 906s 2s/step - loss: 0.8307 - accuracy: 0.6886 - val_loss: 0.9501 - val_accuracy: 0.6543 - lr: 1.0000e-05\n",
      "Epoch 25/40\n",
      "448/448 [==============================] - ETA: 0s - loss: 0.8273 - accuracy: 0.6899\n",
      "Epoch 25: saving model to model_weights.h5\n",
      "448/448 [==============================] - 909s 2s/step - loss: 0.8273 - accuracy: 0.6899 - val_loss: 0.9479 - val_accuracy: 0.6556 - lr: 1.0000e-05\n",
      "Epoch 26/40\n",
      "448/448 [==============================] - ETA: 0s - loss: 0.8278 - accuracy: 0.6918\n",
      "Epoch 26: saving model to model_weights.h5\n",
      "448/448 [==============================] - 907s 2s/step - loss: 0.8278 - accuracy: 0.6918 - val_loss: 0.9475 - val_accuracy: 0.6519 - lr: 1.0000e-05\n",
      "Epoch 27/40\n",
      "448/448 [==============================] - ETA: 0s - loss: 0.8280 - accuracy: 0.6883\n",
      "Epoch 27: saving model to model_weights.h5\n",
      "448/448 [==============================] - 909s 2s/step - loss: 0.8280 - accuracy: 0.6883 - val_loss: 0.9483 - val_accuracy: 0.6521 - lr: 1.0000e-05\n",
      "Epoch 28/40\n",
      "448/448 [==============================] - ETA: 0s - loss: 0.8206 - accuracy: 0.6916\n",
      "Epoch 28: saving model to model_weights.h5\n",
      "448/448 [==============================] - 906s 2s/step - loss: 0.8206 - accuracy: 0.6916 - val_loss: 0.9482 - val_accuracy: 0.6554 - lr: 1.0000e-05\n",
      "Epoch 29/40\n",
      "448/448 [==============================] - ETA: 0s - loss: 0.8221 - accuracy: 0.6920\n",
      "Epoch 29: saving model to model_weights.h5\n"
     ]
    },
    {
     "name": "stdout",
     "output_type": "stream",
     "text": [
      "448/448 [==============================] - 904s 2s/step - loss: 0.8221 - accuracy: 0.6920 - val_loss: 0.9432 - val_accuracy: 0.6547 - lr: 1.0000e-05\n",
      "Epoch 30/40\n",
      "448/448 [==============================] - ETA: 0s - loss: 0.8244 - accuracy: 0.6925\n",
      "Epoch 30: saving model to model_weights.h5\n",
      "448/448 [==============================] - 905s 2s/step - loss: 0.8244 - accuracy: 0.6925 - val_loss: 0.9473 - val_accuracy: 0.6547 - lr: 1.0000e-05\n",
      "Epoch 31/40\n",
      "448/448 [==============================] - ETA: 0s - loss: 0.8200 - accuracy: 0.6949\n",
      "Epoch 31: saving model to model_weights.h5\n",
      "448/448 [==============================] - 900s 2s/step - loss: 0.8200 - accuracy: 0.6949 - val_loss: 0.9491 - val_accuracy: 0.6546 - lr: 1.0000e-05\n",
      "Epoch 32/40\n",
      "448/448 [==============================] - ETA: 0s - loss: 0.8182 - accuracy: 0.6915\n",
      "Epoch 32: saving model to model_weights.h5\n",
      "448/448 [==============================] - 898s 2s/step - loss: 0.8182 - accuracy: 0.6915 - val_loss: 0.9438 - val_accuracy: 0.6542 - lr: 1.0000e-05\n",
      "Epoch 33/40\n",
      "448/448 [==============================] - ETA: 0s - loss: 0.8147 - accuracy: 0.6943\n",
      "Epoch 33: saving model to model_weights.h5\n",
      "448/448 [==============================] - 899s 2s/step - loss: 0.8147 - accuracy: 0.6943 - val_loss: 0.9447 - val_accuracy: 0.6569 - lr: 1.0000e-05\n",
      "Epoch 34/40\n",
      "448/448 [==============================] - ETA: 0s - loss: 0.8062 - accuracy: 0.6983\n",
      "Epoch 34: saving model to model_weights.h5\n",
      "448/448 [==============================] - 900s 2s/step - loss: 0.8062 - accuracy: 0.6983 - val_loss: 0.9435 - val_accuracy: 0.6539 - lr: 1.0000e-05\n",
      "Epoch 35/40\n",
      "448/448 [==============================] - ETA: 0s - loss: 0.8164 - accuracy: 0.6956\n",
      "Epoch 35: saving model to model_weights.h5\n",
      "448/448 [==============================] - 897s 2s/step - loss: 0.8164 - accuracy: 0.6956 - val_loss: 0.9489 - val_accuracy: 0.6543 - lr: 1.0000e-05\n",
      "Epoch 36/40\n",
      "448/448 [==============================] - ETA: 0s - loss: 0.8094 - accuracy: 0.6947\n",
      "Epoch 36: saving model to model_weights.h5\n",
      "448/448 [==============================] - 897s 2s/step - loss: 0.8094 - accuracy: 0.6947 - val_loss: 0.9460 - val_accuracy: 0.6536 - lr: 1.0000e-05\n",
      "Epoch 37/40\n",
      "448/448 [==============================] - ETA: 0s - loss: 0.8091 - accuracy: 0.6967\n",
      "Epoch 37: saving model to model_weights.h5\n",
      "448/448 [==============================] - 900s 2s/step - loss: 0.8091 - accuracy: 0.6967 - val_loss: 0.9498 - val_accuracy: 0.6560 - lr: 1.0000e-05\n",
      "Epoch 38/40\n",
      "448/448 [==============================] - ETA: 0s - loss: 0.8031 - accuracy: 0.7003\n",
      "Epoch 38: saving model to model_weights.h5\n",
      "448/448 [==============================] - 896s 2s/step - loss: 0.8031 - accuracy: 0.7003 - val_loss: 0.9453 - val_accuracy: 0.6572 - lr: 1.0000e-05\n",
      "Epoch 39/40\n",
      "448/448 [==============================] - ETA: 0s - loss: 0.8031 - accuracy: 0.6980\n",
      "Epoch 39: saving model to model_weights.h5\n",
      "448/448 [==============================] - 898s 2s/step - loss: 0.8031 - accuracy: 0.6980 - val_loss: 0.9490 - val_accuracy: 0.6537 - lr: 1.0000e-05\n",
      "Epoch 40/40\n",
      "448/448 [==============================] - ETA: 0s - loss: 0.8029 - accuracy: 0.7019\n",
      "Epoch 40: saving model to model_weights.h5\n",
      "448/448 [==============================] - 889s 2s/step - loss: 0.8029 - accuracy: 0.7019 - val_loss: 0.9478 - val_accuracy: 0.6553 - lr: 1.0000e-05\n"
     ]
    }
   ],
   "source": [
    "epochs = 100\n",
    "steps_per_epoch = train_generator.n//train_generator.batch_size\n",
    "validation_steps = validation_generator.n//validation_generator.batch_size\n",
    "\n",
    "checkpoint = ModelCheckpoint('model_weights.h5', monitor = 'val_accuracy',\n",
    "                            save_weights_only=True, mode = 'max', verbose = 1)\n",
    "reduce_lr = ReduceLROnPlateau(monitor='val_loss', factor = 0.1, patience = 2, min_lr=0.00001, model ='auto')\n",
    "\n",
    "callbacks = [checkpoint, reduce_lr]\n",
    "\n",
    "history = model.fit(\n",
    "    x = train_generator,\n",
    "    steps_per_epoch=steps_per_epoch,\n",
    "    epochs = epochs,\n",
    "    validation_data = validation_generator,\n",
    "    validation_steps = validation_steps,\n",
    "    callbacks = callbacks\n",
    ")"
   ]
  },
  {
   "cell_type": "code",
   "execution_count": 6,
   "id": "33fba532",
   "metadata": {},
   "outputs": [
    {
     "ename": "NameError",
     "evalue": "name 'model' is not defined",
     "output_type": "error",
     "traceback": [
      "\u001b[0;31m---------------------------------------------------------------------------\u001b[0m",
      "\u001b[0;31mNameError\u001b[0m                                 Traceback (most recent call last)",
      "\u001b[0;32m/var/folders/1j/xby8zpxs6jl4xk6dy70syt840000gn/T/ipykernel_1751/233403351.py\u001b[0m in \u001b[0;36m<module>\u001b[0;34m\u001b[0m\n\u001b[0;32m----> 1\u001b[0;31m \u001b[0mmodel_json\u001b[0m \u001b[0;34m=\u001b[0m \u001b[0mmodel\u001b[0m\u001b[0;34m.\u001b[0m\u001b[0mto_json\u001b[0m\u001b[0;34m(\u001b[0m\u001b[0;34m)\u001b[0m\u001b[0;34m\u001b[0m\u001b[0;34m\u001b[0m\u001b[0m\n\u001b[0m\u001b[1;32m      2\u001b[0m \u001b[0;32mwith\u001b[0m \u001b[0mopen\u001b[0m\u001b[0;34m(\u001b[0m\u001b[0;34m\"model.json\"\u001b[0m\u001b[0;34m,\u001b[0m \u001b[0;34m\"w\"\u001b[0m\u001b[0;34m)\u001b[0m \u001b[0;32mas\u001b[0m \u001b[0mjson_file\u001b[0m\u001b[0;34m:\u001b[0m\u001b[0;34m\u001b[0m\u001b[0;34m\u001b[0m\u001b[0m\n\u001b[1;32m      3\u001b[0m     \u001b[0mjson_file\u001b[0m\u001b[0;34m.\u001b[0m\u001b[0mwrite\u001b[0m\u001b[0;34m(\u001b[0m\u001b[0mmodel_json\u001b[0m\u001b[0;34m)\u001b[0m\u001b[0;34m\u001b[0m\u001b[0;34m\u001b[0m\u001b[0m\n",
      "\u001b[0;31mNameError\u001b[0m: name 'model' is not defined"
     ]
    }
   ],
   "source": [
    "model_json = model.to_json()\n",
    "with open(\"model.json\", \"w\") as json_file:\n",
    "    json_file.write(model_json)"
   ]
  },
  {
   "cell_type": "code",
   "execution_count": 384,
   "id": "0ffd3964",
   "metadata": {},
   "outputs": [],
   "source": [
    "model.save(\"model.h5\")"
   ]
  },
  {
   "cell_type": "code",
   "execution_count": 14,
   "id": "0b982386",
   "metadata": {},
   "outputs": [
    {
     "name": "stdout",
     "output_type": "stream",
     "text": [
      "INFO:tensorflow:Assets written to: export.pkl/assets\n"
     ]
    }
   ],
   "source": [
    "model.save(\"export.pkl\")"
   ]
  },
  {
   "cell_type": "code",
   "execution_count": 15,
   "id": "656a4a89",
   "metadata": {},
   "outputs": [
    {
     "ename": "SyntaxError",
     "evalue": "invalid syntax (3977759552.py, line 1)",
     "output_type": "error",
     "traceback": [
      "\u001b[0;36m  File \u001b[0;32m\"/var/folders/1j/xby8zpxs6jl4xk6dy70syt840000gn/T/ipykernel_1106/3977759552.py\"\u001b[0;36m, line \u001b[0;32m1\u001b[0m\n\u001b[0;31m    python -m ipykernel install --user --name=fastai\u001b[0m\n\u001b[0m              ^\u001b[0m\n\u001b[0;31mSyntaxError\u001b[0m\u001b[0;31m:\u001b[0m invalid syntax\n"
     ]
    }
   ],
   "source": [
    "python -m ipykernel install --user --name=fastai\n"
   ]
  },
  {
   "cell_type": "code",
   "execution_count": 9,
   "id": "9f952112",
   "metadata": {},
   "outputs": [],
   "source": [
    "from tensorflow import keras\n"
   ]
  },
  {
   "cell_type": "code",
   "execution_count": 10,
   "id": "775df47f",
   "metadata": {},
   "outputs": [],
   "source": [
    "from tensorflow.keras.models import model_from_json"
   ]
  },
  {
   "cell_type": "code",
   "execution_count": 11,
   "id": "9b915a7b",
   "metadata": {},
   "outputs": [],
   "source": [
    "from __future__ import division"
   ]
  },
  {
   "cell_type": "code",
   "execution_count": 12,
   "id": "4d2b3625",
   "metadata": {},
   "outputs": [],
   "source": [
    "import os"
   ]
  },
  {
   "cell_type": "code",
   "execution_count": 13,
   "id": "c1994e1e",
   "metadata": {},
   "outputs": [],
   "source": [
    "import cv2\n",
    "from PIL import Image"
   ]
  },
  {
   "cell_type": "code",
   "execution_count": 13,
   "id": "00e37693",
   "metadata": {},
   "outputs": [],
   "source": [
    "json_file = open('model.json', 'r')"
   ]
  },
  {
   "cell_type": "code",
   "execution_count": 14,
   "id": "df081e82",
   "metadata": {},
   "outputs": [],
   "source": [
    "loaded_model_json = json_file.read()"
   ]
  },
  {
   "cell_type": "code",
   "execution_count": 15,
   "id": "5d2605c6",
   "metadata": {},
   "outputs": [],
   "source": [
    "json_file.close()"
   ]
  },
  {
   "cell_type": "code",
   "execution_count": 18,
   "id": "cd3d09bd",
   "metadata": {},
   "outputs": [],
   "source": [
    "loaded_model = model_from_json(loaded_model_json)"
   ]
  },
  {
   "cell_type": "code",
   "execution_count": 19,
   "id": "9d810f24",
   "metadata": {},
   "outputs": [
    {
     "name": "stdout",
     "output_type": "stream",
     "text": [
      "Loaded model from disk\n"
     ]
    }
   ],
   "source": [
    "# load weights into new model\n",
    "loaded_model.load_weights(\"model.h5\")\n",
    "print(\"Loaded model from disk\")"
   ]
  },
  {
   "cell_type": "code",
   "execution_count": 20,
   "id": "dd423216",
   "metadata": {},
   "outputs": [],
   "source": [
    "#setting image resizing parameters\n",
    "WIDTH = 48\n",
    "HEIGHT = 48\n",
    "x=None\n",
    "y=None\n",
    "labels = ['angry', 'disgust', 'fear', 'happy', 'neutral', 'sad', 'surprise']"
   ]
  },
  {
   "cell_type": "code",
   "execution_count": 31,
   "id": "e54114cb",
   "metadata": {},
   "outputs": [
    {
     "name": "stdout",
     "output_type": "stream",
     "text": [
      "Image Loaded\n"
     ]
    }
   ],
   "source": [
    "#loading image\n",
    "full_size_image = cv2.imread(\"sad2.jpeg\")\n",
    "print(\"Image Loaded\")\n"
   ]
  },
  {
   "cell_type": "code",
   "execution_count": 32,
   "id": "3c85712c",
   "metadata": {},
   "outputs": [],
   "source": [
    "gray=cv2.cvtColor(full_size_image,cv2.COLOR_BGR2GRAY)\n",
    "face = cv2.CascadeClassifier(cv2.data.haarcascades + 'haarcascade_frontalface_default.xml')\n",
    "faces = face.detectMultiScale(gray, 1.3  , 3)"
   ]
  },
  {
   "cell_type": "code",
   "execution_count": 33,
   "id": "1119d47d",
   "metadata": {},
   "outputs": [],
   "source": [
    "#print(\"voici\",gray)"
   ]
  },
  {
   "cell_type": "code",
   "execution_count": 34,
   "id": "07ab0bcb",
   "metadata": {},
   "outputs": [],
   "source": [
    "#faces = face.detectMultiScale(\n",
    "    #gray,\n",
    "    #scaleFactor=1.3,\n",
    "    #minNeighbors=5,\n",
    "    #minSize=(30, 30),\n",
    "    #flags = cv2.CASCADE_SCALE_IMAGE)\n",
    " \n",
    "#print(\"Faces shape : \", faces.shape[0])\n"
   ]
  },
  {
   "cell_type": "code",
   "execution_count": 35,
   "id": "d51ec573",
   "metadata": {},
   "outputs": [
    {
     "name": "stdout",
     "output_type": "stream",
     "text": [
      "<class 'numpy.ndarray'> [[238  94 166 166]]\n"
     ]
    }
   ],
   "source": [
    "print(type(faces), faces)"
   ]
  },
  {
   "cell_type": "code",
   "execution_count": 49,
   "id": "06f7f6b2",
   "metadata": {},
   "outputs": [],
   "source": [
    "#for (x,y,w,h) in faces:\n",
    "    #cv2.rectangle(full_size_image,(x,y),(x+w,y+h),(255,0,0),2)\n",
    " \n",
    "#print(\"Face count : \", faces.shape[0])\n",
    " \n"
   ]
  },
  {
   "cell_type": "code",
   "execution_count": 50,
   "id": "8f561872",
   "metadata": {},
   "outputs": [],
   "source": [
    "#cv2.imshow('img',img)\n",
    "#cv2.waitKey(0)\n",
    "#cv2.destroyAllWindows()"
   ]
  },
  {
   "cell_type": "code",
   "execution_count": 36,
   "id": "df25247c",
   "metadata": {},
   "outputs": [
    {
     "name": "stdout",
     "output_type": "stream",
     "text": [
      "Emotion: sad\n"
     ]
    }
   ],
   "source": [
    "#detecting faces\n",
    "for (x, y, w, h) in faces:\n",
    "        roi_gray = gray[y:y + h, x:x + w]\n",
    "        cropped_img = np.expand_dims(np.expand_dims(cv2.resize(roi_gray, (48, 48)), -1), 0)\n",
    "        cv2.normalize(cropped_img, cropped_img, alpha=0, beta=1, norm_type=cv2.NORM_L2, dtype=cv2.CV_32F)\n",
    "        cv2.rectangle(full_size_image, (x, y), (x + w, y + h), (0, 255, 0), 1)\n",
    "        \n",
    "        #predicting the emotion\n",
    "        yhat= loaded_model.predict(cropped_img)\n",
    "        cv2.putText(full_size_image, labels[int(np.argmax(yhat))], (x, y), cv2.FONT_HERSHEY_SIMPLEX, 0.8, (0, 255, 0), 1, cv2.LINE_AA)\n",
    "        print(\"Emotion: \"+labels[int(np.argmax(yhat))])\n",
    "\n"
   ]
  },
  {
   "cell_type": "code",
   "execution_count": 37,
   "id": "86dbdd3d",
   "metadata": {},
   "outputs": [],
   "source": [
    "cv2.imshow('Emotion', full_size_image)\n",
    "cv2.waitKey(10)\n",
    "cv2.destroyAllWindows()"
   ]
  },
  {
   "cell_type": "code",
   "execution_count": null,
   "id": "0974f9ac",
   "metadata": {},
   "outputs": [],
   "source": []
  },
  {
   "cell_type": "code",
   "execution_count": 420,
   "id": "c07424dd",
   "metadata": {},
   "outputs": [],
   "source": [
    "#loaded_model = tf.keras.models.load_model('model.h5')"
   ]
  },
  {
   "cell_type": "code",
   "execution_count": 412,
   "id": "d2bce8f1",
   "metadata": {},
   "outputs": [
    {
     "name": "stdout",
     "output_type": "stream",
     "text": [
      "Requirement already satisfied: opencv-python in /Users/mac/opt/anaconda3/lib/python3.9/site-packages (4.5.5.64)\n",
      "Requirement already satisfied: numpy>=1.14.5 in /Users/mac/opt/anaconda3/lib/python3.9/site-packages (from opencv-python) (1.20.3)\n"
     ]
    }
   ],
   "source": [
    "#!pip install opencv-python"
   ]
  },
  {
   "cell_type": "code",
   "execution_count": 421,
   "id": "c9cfa233",
   "metadata": {},
   "outputs": [],
   "source": [
    "#import cv2\n",
    "#from PIL import Image"
   ]
  },
  {
   "cell_type": "code",
   "execution_count": 441,
   "id": "1d59b0dc",
   "metadata": {},
   "outputs": [],
   "source": [
    "#image = cv2.imread(\"sadder.png\")"
   ]
  },
  {
   "cell_type": "code",
   "execution_count": 442,
   "id": "dd67d53c",
   "metadata": {},
   "outputs": [],
   "source": [
    "#gray = cv2.cvtColor(image, cv2.COLOR_BGR2GRAY)"
   ]
  },
  {
   "cell_type": "code",
   "execution_count": 443,
   "id": "1421f4b6",
   "metadata": {},
   "outputs": [],
   "source": [
    "#image_fromarray = Image.fromarray(gray,'L')"
   ]
  },
  {
   "cell_type": "code",
   "execution_count": 444,
   "id": "68567361",
   "metadata": {},
   "outputs": [],
   "source": [
    "#resize_image = image_fromarray.resize((48, 48))\n",
    "#expand_input = np.expand_dims(resize_image,axis=0)\n",
    "#input_data = np.array(expand_input)\n",
    "#input_data = input_data/255"
   ]
  },
  {
   "cell_type": "code",
   "execution_count": 445,
   "id": "c9c3ca30",
   "metadata": {},
   "outputs": [
    {
     "data": {
      "text/plain": [
       "(1, 48, 48)"
      ]
     },
     "execution_count": 445,
     "metadata": {},
     "output_type": "execute_result"
    }
   ],
   "source": [
    "#input_data.shape"
   ]
  },
  {
   "cell_type": "code",
   "execution_count": 446,
   "id": "b4d858d1",
   "metadata": {},
   "outputs": [],
   "source": [
    "#pred = loaded_model.predict(input_data)\n",
    "#result = pred.argmax()"
   ]
  },
  {
   "cell_type": "code",
   "execution_count": 450,
   "id": "f902a284",
   "metadata": {},
   "outputs": [
    {
     "data": {
      "text/plain": [
       "0"
      ]
     },
     "execution_count": 450,
     "metadata": {},
     "output_type": "execute_result"
    }
   ],
   "source": [
    "#result"
   ]
  },
  {
   "cell_type": "code",
   "execution_count": 449,
   "id": "3d1e4e65",
   "metadata": {},
   "outputs": [
    {
     "name": "stdout",
     "output_type": "stream",
     "text": [
      "()\n"
     ]
    }
   ],
   "source": [
    "#print(result.shape)"
   ]
  },
  {
   "cell_type": "code",
   "execution_count": 430,
   "id": "d2380914",
   "metadata": {},
   "outputs": [],
   "source": [
    "#image_fromarray = Image.fromarray(image, 'RGB')\n",
    "\n",
    "\n",
    "#img = Image.open('surprise.jpeg').convert('L')\n",
    "#img.save('surprise.jpeg')\n",
    "#img = Image.fromarray(img, 'grayscale')"
   ]
  },
  {
   "cell_type": "code",
   "execution_count": 431,
   "id": "2c828ed3",
   "metadata": {},
   "outputs": [],
   "source": [
    "#img"
   ]
  },
  {
   "cell_type": "code",
   "execution_count": 392,
   "id": "d8f362a3",
   "metadata": {},
   "outputs": [],
   "source": [
    "#image = cv2.imread(\"sad.jpg\")"
   ]
  },
  {
   "cell_type": "code",
   "execution_count": 432,
   "id": "15c7a95b",
   "metadata": {},
   "outputs": [],
   "source": [
    "#resize_image = img.resize((48, 48))"
   ]
  },
  {
   "cell_type": "code",
   "execution_count": 433,
   "id": "c731f430",
   "metadata": {},
   "outputs": [],
   "source": [
    "#expand_input = np.expand_dims(resize_image,axis=0)"
   ]
  },
  {
   "cell_type": "code",
   "execution_count": 434,
   "id": "6d59007f",
   "metadata": {},
   "outputs": [],
   "source": [
    "#input_data = np.array(expand_input)"
   ]
  },
  {
   "cell_type": "code",
   "execution_count": 435,
   "id": "34270f71",
   "metadata": {},
   "outputs": [],
   "source": [
    "#input_data = input_data/255"
   ]
  },
  {
   "cell_type": "code",
   "execution_count": 436,
   "id": "2f98b4d0",
   "metadata": {},
   "outputs": [],
   "source": [
    "#input_data.shape"
   ]
  },
  {
   "cell_type": "code",
   "execution_count": 437,
   "id": "98e592b5",
   "metadata": {},
   "outputs": [],
   "source": [
    "#predd = loaded_model.predict(input_data)"
   ]
  },
  {
   "cell_type": "code",
   "execution_count": 438,
   "id": "4d25186e",
   "metadata": {},
   "outputs": [],
   "source": [
    "#result = predd.argmax()"
   ]
  },
  {
   "cell_type": "code",
   "execution_count": 439,
   "id": "384c9704",
   "metadata": {},
   "outputs": [],
   "source": [
    "#result"
   ]
  },
  {
   "cell_type": "code",
   "execution_count": 401,
   "id": "a11a088c",
   "metadata": {},
   "outputs": [
    {
     "data": {
      "text/plain": [
       "{'angry': 0,\n",
       " 'disgust': 1,\n",
       " 'fear': 2,\n",
       " 'happy': 3,\n",
       " 'neutral': 4,\n",
       " 'sad': 5,\n",
       " 'surprise': 6}"
      ]
     },
     "execution_count": 401,
     "metadata": {},
     "output_type": "execute_result"
    }
   ],
   "source": [
    "#train_generator.class_indices\n"
   ]
  },
  {
   "cell_type": "code",
   "execution_count": 21,
   "id": "743c25c5",
   "metadata": {},
   "outputs": [
    {
     "ename": "NameError",
     "evalue": "name 'class_indices' is not defined",
     "output_type": "error",
     "traceback": [
      "\u001b[0;31m---------------------------------------------------------------------------\u001b[0m",
      "\u001b[0;31mNameError\u001b[0m                                 Traceback (most recent call last)",
      "\u001b[0;32m/var/folders/1j/xby8zpxs6jl4xk6dy70syt840000gn/T/ipykernel_1070/1556984737.py\u001b[0m in \u001b[0;36m<module>\u001b[0;34m\u001b[0m\n\u001b[0;32m----> 1\u001b[0;31m \u001b[0mclass_indices\u001b[0m\u001b[0;34m\u001b[0m\u001b[0;34m\u001b[0m\u001b[0m\n\u001b[0m",
      "\u001b[0;31mNameError\u001b[0m: name 'class_indices' is not defined"
     ]
    }
   ],
   "source": [
    "class_indices"
   ]
  },
  {
   "cell_type": "code",
   "execution_count": null,
   "id": "217f87c5",
   "metadata": {},
   "outputs": [],
   "source": []
  }
 ],
 "metadata": {
  "kernelspec": {
   "display_name": "Python 3 (ipykernel)",
   "language": "python",
   "name": "python3"
  },
  "language_info": {
   "codemirror_mode": {
    "name": "ipython",
    "version": 3
   },
   "file_extension": ".py",
   "mimetype": "text/x-python",
   "name": "python",
   "nbconvert_exporter": "python",
   "pygments_lexer": "ipython3",
   "version": "3.9.7"
  }
 },
 "nbformat": 4,
 "nbformat_minor": 5
}
